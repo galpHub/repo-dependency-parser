{
 "cells": [
  {
   "cell_type": "markdown",
   "metadata": {},
   "source": [
    "## Repo Dependency Parser\n",
    "\n",
    "As a new developer, often one finds that when joining a new codebase, a key aspect of contributing is understanding the repository. In order to do that, one typically crawls code for hours figuring out what connects to what. However once the codebase reaches a certain size, it becomes increasingly infeasible to do this. In most cases a reasonable compromise is to just learn as needed, contributing incrementally and relying on feedback to develop a complete feature. Nonetheless, there are repositories in which for one reason or other there are necessary dependencies that touch on more than one subsystems. Understanding those 'higher order' dependencies is crucial, especially in open source code that is security sensitive, e.g. cryptocurrency codebases. In order to facilitate cross polination of ideas between different codebases, it is therefore important to provide an open source tool that can be used to study codebases and examine their internal structure in a more visual and hierarchical way. Anyone who's ever had to understand a complex system would ideally be able to save on the sticky notes and whiteboard markers using this tool."
   ]
  },
  {
   "cell_type": "code",
   "execution_count": 188,
   "metadata": {},
   "outputs": [],
   "source": [
    "import os\n",
    "sep = os.path.sep\n",
    "local_directory = \"..\"+sep+\"Divi\" # Needs to be relative to the notebook and using\n",
    "                                  # the separators according to the OS you're working with\n",
    "source_file=\".cpp\"\n",
    "header_file=\".h\""
   ]
  },
  {
   "cell_type": "code",
   "execution_count": 571,
   "metadata": {},
   "outputs": [],
   "source": [
    "import re\n",
    "class RepoReader:\n",
    "    \n",
    "    def __init__(self,dir,header_ext,source_ext):\n",
    "        self.re = re.compile(\"^#include [<\\\"]{1,}(.+)[>\\\"]{1,}\")\n",
    "        self.used_by = {}\n",
    "        self.all_files = set()\n",
    "        self.exception = set()\n",
    "        \n",
    "        self.sep=os.path.sep\n",
    "        self.dir=os.path.normpath(dir)\n",
    "        self.header_ext=header_ext\n",
    "        self.source_ext=source_ext\n",
    "        self.header_filenames = []\n",
    "        self.source_filenames = []\n",
    "        self._read_filenames()\n",
    "    \n",
    "    def _read_filenames(self):\n",
    "        all_files =[os.path.join(dp, f) for dp, dn, fn in os.walk(os.path.expanduser(self.dir)) for f in fn]\n",
    "        for file in all_files:\n",
    "            should_record = False\n",
    "            if file.endswith(self.header_ext):\n",
    "                self.header_filenames.append(\\\n",
    "                    file)\n",
    "                should_record=True\n",
    "            elif file.endswith(self.source_ext):\n",
    "                self.source_filenames.append(\\\n",
    "                    file)\n",
    "                should_record=True\n",
    "                \n",
    "            if should_record:\n",
    "                self._extract_includes(file)\n",
    "                self.all_files.add(file)\n",
    "    \n",
    "    def _extract_includes(self,filename):\n",
    "        with open(filename, errors='ignore') as search:\n",
    "            for line in search:\n",
    "                x=self.re.match(line)\n",
    "                if x is not None:\n",
    "                    included_file = x.groups(0)[0]\n",
    "                    if filename in self.used_by:\n",
    "                        self.used_by[filename].append(included_file)\n",
    "                    else:\n",
    "                        self.used_by[filename] = [included_file]                        \n",
    "        search.close()\n",
    "    \n",
    "    def find_file(self, filename,mode=True):\n",
    "        filename=os.path.normpath(filename)\n",
    "        filename=filename.split(self.sep)[-1]\n",
    "        target_re = \"(.+\"+self.sep+self.sep+\")?\"+filename\n",
    "        for f in self.all_files:\n",
    "            if re.match(target_re,f):\n",
    "                if mode:\n",
    "                    print(f)\n",
    "                return True\n",
    "        if mode:\n",
    "            print(\"File not found\")\n",
    "        return False\n",
    "    \n",
    "    def add_integrity_exception(self,ignore_std_lib):\n",
    "        if ignore_std_lib:\n",
    "            self.exception.add(str(ignore_std_lib))\n",
    "    \n",
    "    def check_reference_integrity(self):\n",
    "        files_found = set()\n",
    "        for f in self.used_by:#i.e. it uses some files\n",
    "            for used_by_f in self.used_by[f]: \n",
    "                if not self.find_file(used_by_f,False):# File was not found\n",
    "                    if (used_by_f.endswith('.h') or used_by_f.endswith('.cpp')) and (not used_by_f in self.exception):\n",
    "                        print(\"Integrity check failed!\\n\"\\\n",
    "                              \"File \"+str(f)+\" attempts to include \" + str(used_by_f))\n",
    "                        return False\n",
    "        return True\n",
    "    \n",
    "    def who_uses(self,filename):\n",
    "        filename=str(os.path.normpath(filename))\n",
    "        files_that_include_filename = []\n",
    "        target_regex = \"(.+\"+self.sep+self.sep+\")?(.+/)?\"+filename.split(sep)[-1]\n",
    "        for f in self.used_by:\n",
    "            for used_file in self.used_by[f]:\n",
    "                if re.match(target_regex,used_file):\n",
    "                    files_that_include_filename.append(f)\n",
    "        return files_that_include_filename\n",
    "    \n",
    "    def _create_graph(self):\n",
    "        return []\n",
    "        self.graph = []\n",
    "        for containing_file in self.used_by:\n",
    "            for used_file in self.used_by[containing_file]:\n",
    "                print(\"containing_file: \"+f)\n",
    "                print(\"used_file: \"+used_file)\n",
    "                target_re = \"(.+\"+sep+sep+\")?\"+used_file.split(sep)[-1]\n",
    "                print(\"target_re: \"+target_re)\n",
    "                m = [f for f in self.all_files if re.match(target_re,f)!=None]\n",
    "                if len(m)!=0:\n",
    "                    print(m)\n",
    "                    break\n",
    "                \n",
    "            if len(m)!=0:\n",
    "                break\n",
    "                \n",
    "    "
   ]
  },
  {
   "cell_type": "code",
   "execution_count": 572,
   "metadata": {},
   "outputs": [],
   "source": [
    "reader=RepoReader(local_directory,header_file, source_file)"
   ]
  },
  {
   "cell_type": "code",
   "execution_count": 573,
   "metadata": {},
   "outputs": [],
   "source": [
    "assert(reader.header_filenames.__len__() == 296)\n",
    "assert(reader.source_filenames.__len__() == 255)"
   ]
  },
  {
   "cell_type": "code",
   "execution_count": 574,
   "metadata": {},
   "outputs": [
    {
     "data": {
      "text/plain": [
       "['stdint.h', 'config/divi-config.h']"
      ]
     },
     "execution_count": 574,
     "metadata": {},
     "output_type": "execute_result"
    }
   ],
   "source": [
    "import json\n",
    "reader.used_by['..\\\\Divi\\\\src\\\\script\\\\diviconsensus.h']"
   ]
  },
  {
   "cell_type": "code",
   "execution_count": 575,
   "metadata": {},
   "outputs": [
    {
     "name": "stdout",
     "output_type": "stream",
     "text": [
      "..\\Divi\\src\\leveldb\\port\\win\\stdint.h\n",
      "..\\Divi\\build_msvc\\divi_config.h\n",
      "..\\Divi\\src\\script\\diviconsensus.h\n"
     ]
    },
    {
     "data": {
      "text/plain": [
       "True"
      ]
     },
     "execution_count": 575,
     "metadata": {},
     "output_type": "execute_result"
    }
   ],
   "source": [
    "reader.find_file(\"stdint.h\");\n",
    "reader.find_file(\"divi_config.h\");\n",
    "reader.find_file(\"diviconsensus.h\")"
   ]
  },
  {
   "cell_type": "markdown",
   "metadata": {},
   "source": [
    "## Explicitly verifying what 'external' dependencies are being added"
   ]
  },
  {
   "cell_type": "code",
   "execution_count": 576,
   "metadata": {},
   "outputs": [
    {
     "data": {
      "text/plain": [
       "True"
      ]
     },
     "execution_count": 576,
     "metadata": {},
     "output_type": "execute_result"
    }
   ],
   "source": [
    "#..\\Divi\\src\\arith_uint256.cpp\n",
    "reader.add_integrity_exception(\"stdio.h\")\n",
    "reader.add_integrity_exception(\"string.h\")\n",
    "reader.add_integrity_exception(\"assert.h\")\n",
    "\n",
    "#..\\Divi\\src\\bip39.cpp\n",
    "reader.add_integrity_exception(\"openssl/evp.h\")\n",
    "\n",
    "#..\\Divi\\src\\bloom.cpp\n",
    "reader.add_integrity_exception(\"math.h\")\n",
    "reader.add_integrity_exception(\"stdlib.h\")\n",
    "#..\\Divi\\src\\clientversion.cpp\n",
    "reader.add_integrity_exception(\"obj/build.h\")\n",
    "\n",
    "# Various files inside the Divi/src/ folder related to\n",
    "# an include guard HAVE_CONFIG_H\n",
    "reader.add_integrity_exception(\"config/divi-config.h\")\n",
    "reader.add_integrity_exception(\"winsock2.h\")\n",
    "reader.add_integrity_exception(\"mswsock.h\")\n",
    "reader.add_integrity_exception(\"windows.h\")\n",
    "reader.add_integrity_exception(\"ws2tcpip.h\")\n",
    "reader.add_integrity_exception(\"fcntl.h\")\n",
    "\n",
    "# sys/mman.cpp only found on linux\n",
    "reader.add_integrity_exception(\"sys/mman.h\")\n",
    "reader.add_integrity_exception(\"sys/select.h\")\n",
    "reader.add_integrity_exception(\"sys/socket.h\")\n",
    "reader.add_integrity_exception(\"sys/types.h\")\n",
    "reader.add_integrity_exception(\"net/if.h\")\n",
    "reader.add_integrity_exception(\"netinet/in.h\")\n",
    "reader.add_integrity_exception(\"netinet/tcp.h\")\n",
    "reader.add_integrity_exception(\"arpa/inet.h\")\n",
    "reader.add_integrity_exception(\"ifaddrs.h\")\n",
    "\n",
    "reader.add_integrity_exception(\"limits.h\")\n",
    "reader.add_integrity_exception(\"netdb.h\")\n",
    "reader.add_integrity_exception(\"unistd.h\")\n",
    "reader.add_integrity_exception(\"errno.h\")\n",
    "reader.add_integrity_exception(\"event2/buffer.h\")\n",
    "reader.add_integrity_exception(\"event2/keyvalq_struct.h\")\n",
    "reader.add_integrity_exception(\"ext/stdio_filebuf.h\")\n",
    "reader.add_integrity_exception(\"sys/stat.h\")\n",
    "reader.add_integrity_exception(\"signal.h\")\n",
    "reader.add_integrity_exception(\"event2/thread.h\")\n",
    "reader.add_integrity_exception(\"event2/bufferevent.h\")\n",
    "reader.add_integrity_exception(\"event2/bufferevent.h\")\n",
    "reader.add_integrity_exception(\"poll.h\")\n",
    "reader.add_integrity_exception(\"miniupnpc/miniupnpc.h\")\n",
    "reader.add_integrity_exception(\"miniupnpc/miniwget.h\")\n",
    "reader.add_integrity_exception(\"miniupnpc/upnpcommands.h\")\n",
    "reader.add_integrity_exception(\"miniupnpc/upnperrors.h\")\n",
    "reader.add_integrity_exception(\"wincrypt.h\")\n",
    "reader.add_integrity_exception(\"sys/syscall.h\")\n",
    "reader.add_integrity_exception(\"sys/sysctl.h\")\n",
    "reader.add_integrity_exception(\"cpuid.h\")\n",
    "reader.add_integrity_exception(\"openssl/err.h\")\n",
    "reader.add_integrity_exception(\"openssl/rand.h\")\n",
    "reader.add_integrity_exception(\"event2/event.h\")\n",
    "reader.add_integrity_exception(\"libkern/OSByteOrder.h\")\n",
    "reader.add_integrity_exception(\"immintrin.h\")\n",
    "reader.add_integrity_exception(\"stddef.h\")\n",
    "reader.add_integrity_exception(\"stdarg.h\")\n",
    "reader.add_integrity_exception(\"libkern/OSAtomic.h\")\n",
    "reader.add_integrity_exception(\"pthread.h\")\n",
    "reader.add_integrity_exception(\"snappy.h\")\n",
    "reader.add_integrity_exception(\"malloc.h\")\n",
    "reader.add_integrity_exception(\"ecmult_static_context.h\")\n",
    "reader.add_integrity_exception(\"libsecp256k1-config.h\")\n",
    "reader.add_integrity_exception(\"gmp.h\")\n",
    "reader.add_integrity_exception(\"jni.h\")\n",
    "reader.add_integrity_exception(\"event2/http.h\")\n",
    "reader.add_integrity_exception(\"sys/resource.h\")\n",
    "reader.add_integrity_exception(\"sys/wait.h\")\n",
    "reader.add_integrity_exception(\"sys/prctl.h\")\n",
    "\n",
    "# Case exception for the Linux vs. Windows situation where case matters?\n",
    "reader.add_integrity_exception(\"Windows.h\")\n",
    "\n",
    "# Using include sorcery to bring in test data :C\n",
    "reader.add_integrity_exception(\"bench/data/block413567.raw.h\")\n",
    "reader.add_integrity_exception(\"test/data/base58_encode_decode.json.h\")\n",
    "reader.add_integrity_exception(\"test/data/blockfilters.json.h\")\n",
    "reader.add_integrity_exception(\"test/data/key_io_invalid.json.h\")\n",
    "reader.add_integrity_exception(\"test/data/key_io_valid.json.h\")\n",
    "reader.add_integrity_exception(\"test/data/script_tests.json.h\")\n",
    "reader.add_integrity_exception(\"test/data/sighash.json.h\")\n",
    "reader.add_integrity_exception(\"test/data/tx_invalid.json.h\")\n",
    "reader.add_integrity_exception(\"test/data/tx_valid.json.h\")\n",
    "\n",
    "# External library rapidcheck\n",
    "reader.add_integrity_exception(\"rapidcheck/boost_test.h\")\n",
    "reader.add_integrity_exception(\"rapidcheck/gen/Arbitrary.h\")\n",
    "reader.add_integrity_exception(\"rapidcheck/gen/Predicate.h\")\n",
    "reader.add_integrity_exception(\"rapidcheck/gen/Container.h\")\n",
    "reader.add_integrity_exception(\"rapidcheck/gen/Create.h\")\n",
    "reader.add_integrity_exception(\"rapidcheck/gen/Numeric.h\")\n",
    "reader.add_integrity_exception(\"rapidcheck/Gen.h\")\n",
    "\n",
    "# Other\n",
    "reader.add_integrity_exception(\"pthread_np.h\")\n",
    "reader.add_integrity_exception(\"sched.h\")\n",
    "reader.add_integrity_exception(\"io.h\")\n",
    "reader.add_integrity_exception(\"shellapi.h\")\n",
    "reader.add_integrity_exception(\"shlobj.h\")\n",
    "reader.add_integrity_exception(\"openssl/conf.h\")\n",
    "\n",
    "reader.add_integrity_exception(\"db_cxx.h\")\n",
    "reader.add_integrity_exception(\"db_cxx.h\")\n",
    "reader.add_integrity_exception(\"zmq.h\")\n",
    "\n",
    "reader.check_reference_integrity()"
   ]
  },
  {
   "cell_type": "code",
   "execution_count": 577,
   "metadata": {},
   "outputs": [
    {
     "data": {
      "text/plain": [
       "[]"
      ]
     },
     "execution_count": 577,
     "metadata": {},
     "output_type": "execute_result"
    }
   ],
   "source": [
    "reader._create_graph()"
   ]
  },
  {
   "cell_type": "markdown",
   "metadata": {},
   "source": [
    "Example to model code after follows right below"
   ]
  },
  {
   "cell_type": "code",
   "execution_count": 157,
   "metadata": {},
   "outputs": [
    {
     "ename": "ModuleNotFoundError",
     "evalue": "No module named 'd3py'",
     "output_type": "error",
     "traceback": [
      "\u001b[1;31m---------------------------------------------------------------------------\u001b[0m",
      "\u001b[1;31mModuleNotFoundError\u001b[0m                       Traceback (most recent call last)",
      "\u001b[1;32m<ipython-input-157-0f74bb72faa2>\u001b[0m in \u001b[0;36m<module>\u001b[1;34m\u001b[0m\n\u001b[1;32m----> 1\u001b[1;33m \u001b[1;32mimport\u001b[0m \u001b[0md3py\u001b[0m\u001b[1;33m\u001b[0m\u001b[1;33m\u001b[0m\u001b[0m\n\u001b[0m\u001b[0;32m      2\u001b[0m \u001b[1;32mimport\u001b[0m \u001b[0mnetworkx\u001b[0m \u001b[1;32mas\u001b[0m \u001b[0mnx\u001b[0m\u001b[1;33m\u001b[0m\u001b[1;33m\u001b[0m\u001b[0m\n\u001b[0;32m      3\u001b[0m \u001b[1;33m\u001b[0m\u001b[0m\n\u001b[0;32m      4\u001b[0m \u001b[1;32mimport\u001b[0m \u001b[0mlogging\u001b[0m\u001b[1;33m\u001b[0m\u001b[1;33m\u001b[0m\u001b[0m\n\u001b[0;32m      5\u001b[0m \u001b[0mlogging\u001b[0m\u001b[1;33m.\u001b[0m\u001b[0mbasicConfig\u001b[0m\u001b[1;33m(\u001b[0m\u001b[0mlevel\u001b[0m\u001b[1;33m=\u001b[0m\u001b[0mlogging\u001b[0m\u001b[1;33m.\u001b[0m\u001b[0mDEBUG\u001b[0m\u001b[1;33m)\u001b[0m\u001b[1;33m\u001b[0m\u001b[1;33m\u001b[0m\u001b[0m\n",
      "\u001b[1;31mModuleNotFoundError\u001b[0m: No module named 'd3py'"
     ]
    }
   ],
   "source": [
    "import d3py\n",
    "import networkx as nx\n",
    "\n",
    "import logging\n",
    "logging.basicConfig(level=logging.DEBUG)\n",
    "\n",
    "G = nx.Graph()\n",
    "G.add_edge(1,2)\n",
    "G.add_edge(1,3)\n",
    "G.add_edge(3,2)\n",
    "G.add_edge(3,4)\n",
    "G.add_edge(4,2)\n",
    "\n",
    "# use 'with' if you are writing a script and want to serve this up forever\n",
    "with d3py.NetworkXFigure(G, width=500, height=500) as p:\n",
    "    p += d3py.ForceLayout()\n",
    "    p.show()"
   ]
  },
  {
   "cell_type": "code",
   "execution_count": 176,
   "metadata": {},
   "outputs": [
    {
     "data": {
      "text/plain": [
       "'..\\\\Divi\\\\src\\\\chainparams.h'"
      ]
     },
     "execution_count": 176,
     "metadata": {},
     "output_type": "execute_result"
    }
   ],
   "source": [
    "os.path.normpath(\"../Divi/src/tests/\"+\"../chainparams.h\")"
   ]
  },
  {
   "cell_type": "code",
   "execution_count": 187,
   "metadata": {},
   "outputs": [
    {
     "data": {
      "text/plain": [
       "'\\\\'"
      ]
     },
     "execution_count": 187,
     "metadata": {},
     "output_type": "execute_result"
    }
   ],
   "source": [
    "os.path.sep"
   ]
  },
  {
   "cell_type": "code",
   "execution_count": null,
   "metadata": {},
   "outputs": [],
   "source": []
  }
 ],
 "metadata": {
  "kernelspec": {
   "display_name": "Python 3",
   "language": "python",
   "name": "python3"
  },
  "language_info": {
   "codemirror_mode": {
    "name": "ipython",
    "version": 3
   },
   "file_extension": ".py",
   "mimetype": "text/x-python",
   "name": "python",
   "nbconvert_exporter": "python",
   "pygments_lexer": "ipython3",
   "version": "3.7.3"
  }
 },
 "nbformat": 4,
 "nbformat_minor": 2
}
